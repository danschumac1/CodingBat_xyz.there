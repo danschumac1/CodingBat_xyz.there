{
 "cells": [
  {
   "cell_type": "markdown",
   "id": "0ef6eda3",
   "metadata": {},
   "source": [
    "# String-2 > xyz_there"
   ]
  },
  {
   "cell_type": "markdown",
   "id": "18226bf1",
   "metadata": {},
   "source": [
    "Return True if the given string contains an appearance of \"xyz\" where the xyz is not directly preceeded by a period (.). So \"xxyz\" counts but \"x.xyz\" does not.\n",
    "\n",
    "\n",
    "xyz_there('abcxyz') → True\n",
    "\n",
    "xyz_there('abc.xyz') → False\n",
    "\n",
    "xyz_there('xyz.abc') → True"
   ]
  },
  {
   "cell_type": "code",
   "execution_count": 1,
   "id": "a596f7d6",
   "metadata": {},
   "outputs": [],
   "source": [
    "def xyz_there(str):\n",
    "  \n",
    "  il = 0\n",
    "  count = 0\n",
    "  \n",
    "  while il<=len(str)-1:\n",
    "    if str[il:il+3] == 'xyz' and str[il-1:il] != '.':\n",
    "      count+=1\n",
    "      return True\n",
    "    else:\n",
    "      il+=1\n",
    "  return False"
   ]
  }
 ],
 "metadata": {
  "kernelspec": {
   "display_name": "Python 3 (ipykernel)",
   "language": "python",
   "name": "python3"
  },
  "language_info": {
   "codemirror_mode": {
    "name": "ipython",
    "version": 3
   },
   "file_extension": ".py",
   "mimetype": "text/x-python",
   "name": "python",
   "nbconvert_exporter": "python",
   "pygments_lexer": "ipython3",
   "version": "3.9.12"
  }
 },
 "nbformat": 4,
 "nbformat_minor": 5
}
